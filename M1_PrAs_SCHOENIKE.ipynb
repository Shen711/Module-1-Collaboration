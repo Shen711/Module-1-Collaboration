{
 "cells": [
  {
   "cell_type": "code",
   "execution_count": 11,
   "id": "c53ea6af-c3c3-451e-bdcc-9bdfd901eeaf",
   "metadata": {},
   "outputs": [
    {
     "name": "stdout",
     "output_type": "stream",
     "text": [
      "3.1: Seconds in an hour =  3600\n",
      "3.2: Variable seconds_per_hour =  3600\n",
      "3.3: There are 86400 seconds in a day\n",
      "3.4: Product is assigned to variable seconds_per_day which equals 86400\n",
      "3.5: Using floating point division the number is 24.0\n",
      "3.6: Using integer division the number is 24\n"
     ]
    }
   ],
   "source": [
    "#3.1\n",
    "minutes_in_hour = 60\n",
    "seconds_in_minutes = 60\n",
    "print(\"3.1: Seconds in an hour = \", minutes_in_hour * seconds_in_minutes)\n",
    "\n",
    "#3.2\n",
    "seconds_per_hour = minutes_in_hour * seconds_in_minutes\n",
    "print(\"3.2: Variable seconds_per_hour = \", seconds_per_hour)\n",
    "\n",
    "#3.3\n",
    "hours_in_day = 24\n",
    "print(\"3.3: There are\", seconds_per_hour * hours_in_day, \"seconds in a day\")\n",
    "\n",
    "#3.4\n",
    "seconds_per_day = seconds_per_hour * hours_in_day\n",
    "print(\"3.4: Product is assigned to variable seconds_per_day which equals\", seconds_per_day)\n",
    "\n",
    "#3.5\n",
    "float_number = seconds_per_day / seconds_per_hour\n",
    "print(\"3.5: Using floating point division the number is\", float_number)\n",
    "\n",
    "#3.6\n",
    "integer_number = seconds_per_day // seconds_per_hour\n",
    "print(\"3.6: Using integer division the number is\", integer_number)"
   ]
  },
  {
   "cell_type": "markdown",
   "id": "084f8808-f5d4-4493-8353-09eeb49e625e",
   "metadata": {},
   "source": [
    " 3.1: There are 3600 seconds in an hour\n",
    " 3.2: No response, assigned variable\n",
    " 3.3: There are 86,400 seconds in a day\n",
    " 3.4: No response, assigned variable\n",
    " 3.5: Float division answer is 24.0\n",
    " 3.6: Integer division answer is 24. So yes, question 3.5 and question 3.6 are the same answer when disregarding the float so they agreed\n"
   ]
  }
 ],
 "metadata": {
  "kernelspec": {
   "display_name": "anaconda-panel-2023.05-py310",
   "language": "python",
   "name": "conda-env-anaconda-panel-2023.05-py310-py"
  },
  "language_info": {
   "codemirror_mode": {
    "name": "ipython",
    "version": 3
   },
   "file_extension": ".py",
   "mimetype": "text/x-python",
   "name": "python",
   "nbconvert_exporter": "python",
   "pygments_lexer": "ipython3",
   "version": "3.11.5"
  }
 },
 "nbformat": 4,
 "nbformat_minor": 5
}
