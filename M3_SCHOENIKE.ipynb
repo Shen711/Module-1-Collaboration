{
 "cells": [
  {
   "cell_type": "code",
   "execution_count": 5,
   "id": "ba0b3d9b-2bfa-4b6f-9904-1787a98a26ad",
   "metadata": {},
   "outputs": [
    {
     "name": "stdout",
     "output_type": "stream",
     "text": [
      "7.5: ['mozzarella', 'Cinderella', 'salmonella']\n",
      "7.6: ['MOZZARELLA', 'Cinderella', 'salmonella']\n",
      "7.6: ['MOZZARELLA', 'Cinderella']\n"
     ]
    }
   ],
   "source": [
    "#7.4\n",
    "things = [\"mozzarella\", \"cinderella\", \"salmonella\"]\n",
    "\n",
    "#7.5\n",
    "things[1] = 'Cinderella'\n",
    "\n",
    "print('7.5:', things)\n",
    "\n",
    "#7.6\n",
    "things[0] = 'MOZZARELLA'\n",
    "print('7.6:', things)\n",
    "\n",
    "#7.7\n",
    "del things[-1]\n",
    "print('7.6:', things)"
   ]
  },
  {
   "cell_type": "markdown",
   "id": "2f3aec75-3831-4a43-b91d-3c632b1da753",
   "metadata": {},
   "source": [
    "#7.5: Yes it did"
   ]
  },
  {
   "cell_type": "code",
   "execution_count": 6,
   "id": "55f6d021-9976-4be7-900b-cebd59a90b0a",
   "metadata": {},
   "outputs": [
    {
     "data": {
      "text/plain": [
       "['Harry', 'Ron', 'Hermione']"
      ]
     },
     "execution_count": 6,
     "metadata": {},
     "output_type": "execute_result"
    }
   ],
   "source": [
    "#9.1\n",
    "def good():\n",
    "    list = ['Harry', 'Ron', 'Hermione']\n",
    "    return list\n",
    "good()"
   ]
  },
  {
   "cell_type": "code",
   "execution_count": 20,
   "id": "4eb95c4d-62e1-453a-b590-67d59cc7da77",
   "metadata": {},
   "outputs": [
    {
     "name": "stdout",
     "output_type": "stream",
     "text": [
      "5\n"
     ]
    }
   ],
   "source": [
    "#9.2\n",
    "def get_odds():\n",
    "    for digit in range(10):\n",
    "        if digit % 2 == 1:\n",
    "            yield digit\n",
    "\n",
    "counter = 0\n",
    "for x in get_odds():\n",
    "    counter += 1\n",
    "    if (counter == 3):\n",
    "        print(x)\n",
    "    \n",
    "        \n",
    "    \n",
    "    "
   ]
  },
  {
   "cell_type": "markdown",
   "id": "b4ae7b93-e744-47d5-b7ff-67f6ed5fdd79",
   "metadata": {},
   "source": []
  }
 ],
 "metadata": {
  "kernelspec": {
   "display_name": "anaconda-panel-2023.05-py310",
   "language": "python",
   "name": "conda-env-anaconda-panel-2023.05-py310-py"
  },
  "language_info": {
   "codemirror_mode": {
    "name": "ipython",
    "version": 3
   },
   "file_extension": ".py",
   "mimetype": "text/x-python",
   "name": "python",
   "nbconvert_exporter": "python",
   "pygments_lexer": "ipython3",
   "version": "3.11.5"
  }
 },
 "nbformat": 4,
 "nbformat_minor": 5
}
