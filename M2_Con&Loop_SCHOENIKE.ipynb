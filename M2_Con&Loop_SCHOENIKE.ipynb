{
 "cells": [
  {
   "cell_type": "code",
   "execution_count": 10,
   "id": "fead6742-a093-4fc5-87a5-24b1b39b2cd2",
   "metadata": {},
   "outputs": [
    {
     "name": "stdout",
     "output_type": "stream",
     "text": [
      "Just Right.\n"
     ]
    }
   ],
   "source": [
    "#4.1\n",
    "secret = 7\n",
    "guess = 7\n",
    "if guess > secret:\n",
    "    print(\"Too High\")\n",
    "elif guess == secret:\n",
    "    print(\"Just Right.\")\n",
    "else:\n",
    "    print(\"Too low.\")\n",
    "    "
   ]
  },
  {
   "cell_type": "code",
   "execution_count": 15,
   "id": "6c4089ff-6f9d-48df-a311-06de15119701",
   "metadata": {},
   "outputs": [
    {
     "name": "stdout",
     "output_type": "stream",
     "text": [
      "This is a pumpkin.\n"
     ]
    }
   ],
   "source": [
    "#4.2\n",
    "small = \"False\"\n",
    "green = \"False\"\n",
    "\n",
    "if (small == \"True\" and green == \"True\"):\n",
    "    print(\"This is a pea.\")\n",
    "\n",
    "if (small == \"False\" and green == \"True\"):\n",
    "    print(\"This is a watermelon.\")\n",
    "\n",
    "if (small == \"True\" and green == \"False\"):\n",
    "    print(\"This is a cherry.\")\n",
    "\n",
    "if (small == \"False\" and green == \"False\"):\n",
    "          print(\"This is a pumpkin.\")"
   ]
  },
  {
   "cell_type": "code",
   "execution_count": 17,
   "id": "ecd70d8f-fff4-44d6-a070-225abfde1282",
   "metadata": {},
   "outputs": [
    {
     "name": "stdout",
     "output_type": "stream",
     "text": [
      "3\n",
      "2\n",
      "1\n",
      "0\n"
     ]
    }
   ],
   "source": [
    "#6.1\n",
    "count = 3\n",
    "while count >= 0:\n",
    "    print(count)\n",
    "    count -= 1"
   ]
  },
  {
   "cell_type": "code",
   "execution_count": 24,
   "id": "8809a446-f557-414f-8121-0e695a3ba623",
   "metadata": {},
   "outputs": [
    {
     "name": "stdout",
     "output_type": "stream",
     "text": [
      "1\n",
      "Too low.\n",
      "2\n",
      "Too low.\n",
      "3\n",
      "Too low.\n",
      "4\n",
      "Too low.\n",
      "5\n",
      "Too low.\n",
      "6\n",
      "Too low.\n",
      "7\n",
      "Just right.\n",
      "8\n",
      "Oops.\n"
     ]
    }
   ],
   "source": [
    "#6.2\n",
    "guess_me = 7\n",
    "number = 1\n",
    "count = 8\n",
    "\n",
    "while count == 8:\n",
    "    print(number)\n",
    "    if number < guess_me:\n",
    "        \n",
    "        print(\"Too low.\")\n",
    "    if number == guess_me:\n",
    "        print(\"Found it!\")\n",
    "    if number > guess_me:\n",
    "        print(\"Oops.\")\n",
    "        count += 1\n",
    "        break\n",
    "    number += 1\n",
    "    "
   ]
  },
  {
   "cell_type": "markdown",
   "id": "b947c812-5a00-402f-8125-86906167b5ae",
   "metadata": {},
   "source": [
    "Couldnt actually have the condition be a comparison between the 2 in a while loop. Not sure if we were supposed to make the condition of the while a comparison or just the body of it. Ended up having to make a count so that it still prints \"Oops\" after because intially I had it as while (guess_me >= number) but then it never actually had a chance to print out the 8 which is bigger than guess_me."
   ]
  },
  {
   "cell_type": "code",
   "execution_count": 36,
   "id": "b23dd6b4-e1e3-4f18-bc3b-c2cb9895bcda",
   "metadata": {},
   "outputs": [
    {
     "name": "stdout",
     "output_type": "stream",
     "text": [
      "0\n",
      "Too low.\n",
      "1\n",
      "Too low.\n",
      "2\n",
      "Too low.\n",
      "3\n",
      "Too low.\n",
      "4\n",
      "Too low.\n",
      "5\n",
      "Found it!\n"
     ]
    }
   ],
   "source": [
    "#6.3\n",
    "guess_me = 5\n",
    "\n",
    "\n",
    "for number in range(10):\n",
    "    print(number)\n",
    "    if (number < guess_me):\n",
    "        print(\"Too low.\")\n",
    "\n",
    "    if (number == guess_me):\n",
    "        print(\"Found it!\")\n",
    "        break\n",
    "    if (number > guess_me):\n",
    "        print(\"Oops.\")\n",
    "        break\n",
    "        \n",
    "    "
   ]
  },
  {
   "cell_type": "markdown",
   "id": "f0002164-3489-4017-97a6-9964924910a9",
   "metadata": {},
   "source": [
    "Wasnt sure if we were supposed to actually make it print out the numbers after 5. It says that once number = guess_me break out of the loop. But it also says to print Oops and break out. So I added the print to when number is greater than guess_me but it wont actually ever execute. Not sure if this was what was intended for the assignment."
   ]
  },
  {
   "cell_type": "markdown",
   "id": "2657f476-4b41-4161-8a29-431765c12ecc",
   "metadata": {},
   "source": [
    "#None of the questions had anything we were supposed to actually answer."
   ]
  },
  {
   "cell_type": "code",
   "execution_count": null,
   "id": "04201d4e-aa7d-4145-a2a6-292c0754d48c",
   "metadata": {},
   "outputs": [],
   "source": []
  },
  {
   "cell_type": "code",
   "execution_count": null,
   "id": "cd9afee1-827c-4bea-ac8b-453f5cfde450",
   "metadata": {},
   "outputs": [],
   "source": []
  },
  {
   "cell_type": "code",
   "execution_count": null,
   "id": "ef89b6ce-7bf0-44ef-9b2c-539e779c3e4f",
   "metadata": {},
   "outputs": [],
   "source": []
  },
  {
   "cell_type": "code",
   "execution_count": null,
   "id": "083927e3-92b2-4e3e-ac71-e7c217c5bfa2",
   "metadata": {},
   "outputs": [],
   "source": []
  },
  {
   "cell_type": "code",
   "execution_count": null,
   "id": "3ee8c959-1df4-4d6b-93f8-1a2829daa9b7",
   "metadata": {},
   "outputs": [],
   "source": []
  },
  {
   "cell_type": "code",
   "execution_count": null,
   "id": "c6ec6a59-232a-4d68-8102-e408122dfaa9",
   "metadata": {},
   "outputs": [],
   "source": []
  }
 ],
 "metadata": {
  "kernelspec": {
   "display_name": "anaconda-panel-2023.05-py310",
   "language": "python",
   "name": "conda-env-anaconda-panel-2023.05-py310-py"
  },
  "language_info": {
   "codemirror_mode": {
    "name": "ipython",
    "version": 3
   },
   "file_extension": ".py",
   "mimetype": "text/x-python",
   "name": "python",
   "nbconvert_exporter": "python",
   "pygments_lexer": "ipython3",
   "version": "3.11.5"
  }
 },
 "nbformat": 4,
 "nbformat_minor": 5
}
