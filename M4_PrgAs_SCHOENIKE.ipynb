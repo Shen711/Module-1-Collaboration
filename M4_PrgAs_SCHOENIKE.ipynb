{
 "cells": [
  {
   "cell_type": "code",
   "execution_count": 2,
   "id": "5133674c-0f1a-48b9-80fc-8f0466e66431",
   "metadata": {},
   "outputs": [
    {
     "name": "stdout",
     "output_type": "stream",
     "text": [
      "Open from 9-5 daily.\n"
     ]
    }
   ],
   "source": [
    "#11.1\n",
    "import zoo \n",
    "zoo.hours()"
   ]
  },
  {
   "cell_type": "code",
   "execution_count": 3,
   "id": "329cb836-a395-4070-b56c-5bcdb1148079",
   "metadata": {},
   "outputs": [
    {
     "name": "stdout",
     "output_type": "stream",
     "text": [
      "Open from 9-5 daily.\n"
     ]
    }
   ],
   "source": [
    "#11.2\n",
    "import zoo as menagerie\n",
    "menagerie.hours()"
   ]
  },
  {
   "cell_type": "code",
   "execution_count": 1,
   "id": "72ea4b3d-0be2-484a-9826-012eb2516f90",
   "metadata": {},
   "outputs": [
    {
     "name": "stdout",
     "output_type": "stream",
     "text": [
      "('Game Of Thrones',)\n",
      "('Harry Potter',)\n"
     ]
    }
   ],
   "source": [
    "#16.8\n",
    "import sqlite3\n",
    "import sqlalchemy\n",
    "connection = sqlite3.connect('books.db')\n",
    "curs = connection.cursor()\n",
    "curs.execute ('''\n",
    "CREATE TABLE IF NOT EXISTS books \n",
    "(title VARCHAR2(20) PRIMARY KEY,\n",
    "author VARCHAR2(20),\n",
    "year INT)'''\n",
    ")\n",
    "\n",
    "curs.execute('INSERT OR IGNORE INTO books VALUES (\"Harry Potter\", \"JK Rowling\", 1999)')\n",
    "curs.execute('INSERT OR IGNORE INTO books VALUES (\"Game Of Thrones\", \"George Martin\", 2000)')\n",
    "connection.commit()\n",
    "connection.close()\n",
    "\n",
    "from sqlalchemy import create_engine\n",
    "\n",
    "\n",
    "bookage = create_engine('sqlite:///books.db')\n",
    "with bookage.connect() as connection:\n",
    "    fetch = connection.execute('SELECT title FROM books ORDER by TITLE')\n",
    "    for i in fetch:\n",
    "        print(i)\n",
    "\n",
    "#I had a lot of problems with this one"
   ]
  },
  {
   "cell_type": "code",
   "execution_count": null,
   "id": "a131b316-eb67-4a78-a721-13a2115504da",
   "metadata": {},
   "outputs": [],
   "source": []
  },
  {
   "cell_type": "code",
   "execution_count": null,
   "id": "ec98b705-4f7c-4b4e-9e50-3ef9f77e02ca",
   "metadata": {},
   "outputs": [],
   "source": []
  }
 ],
 "metadata": {
  "kernelspec": {
   "display_name": "anaconda-panel-2023.05-py310",
   "language": "python",
   "name": "conda-env-anaconda-panel-2023.05-py310-py"
  },
  "language_info": {
   "codemirror_mode": {
    "name": "ipython",
    "version": 3
   },
   "file_extension": ".py",
   "mimetype": "text/x-python",
   "name": "python",
   "nbconvert_exporter": "python",
   "pygments_lexer": "ipython3",
   "version": "3.11.5"
  }
 },
 "nbformat": 4,
 "nbformat_minor": 5
}
