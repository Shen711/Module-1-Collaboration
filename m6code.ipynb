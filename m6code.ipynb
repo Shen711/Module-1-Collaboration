{
 "cells": [
  {
   "cell_type": "code",
   "execution_count": 11,
   "id": "b3d63629-0c86-457e-8b15-d3cb18d3afe2",
   "metadata": {},
   "outputs": [
    {
     "name": "stdout",
     "output_type": "stream",
     "text": [
      "2025-10-06\n",
      "2025-10-06\n"
     ]
    }
   ],
   "source": [
    "#13.1\n",
    "from datetime import date, datetime, time\n",
    "\n",
    "today = date.today()\n",
    "datestring = today.isoformat()\n",
    "print(datestring)\n",
    "today_file = open('today.txt', 'w')\n",
    "today_file.write(datestring)\n",
    "today_file.close()\n",
    "\n",
    "\n",
    "with open('today.txt', 'r') as file:\n",
    "    print(file.read())"
   ]
  },
  {
   "cell_type": "code",
   "execution_count": 8,
   "id": "64a563dd-ed25-4709-bb71-e8f3d9867452",
   "metadata": {},
   "outputs": [
    {
     "name": "stdout",
     "output_type": "stream",
     "text": [
      "2025-10-06\n"
     ]
    }
   ],
   "source": [
    "#13.2\n",
    "with open('today.txt', 'r') as file:\n",
    "    today_string = file.read()\n",
    "\n",
    "print(today_string)\n"
   ]
  },
  {
   "cell_type": "code",
   "execution_count": 14,
   "id": "d2121272-edfd-408e-b3bd-d645f48808fc",
   "metadata": {},
   "outputs": [
    {
     "name": "stdout",
     "output_type": "stream",
     "text": [
      "2025-10-06 00:00:00\n"
     ]
    }
   ],
   "source": [
    "#13.3\n",
    "\n",
    "fmt = \"%Y-%m-%d\"\n",
    "parsed = datetime.strptime(today_string, fmt)\n",
    "print(parsed)"
   ]
  },
  {
   "cell_type": "code",
   "execution_count": 35,
   "id": "4ccb53e5-4f67-4cf8-86a9-56f7c2f3217d",
   "metadata": {},
   "outputs": [
    {
     "name": "stdout",
     "output_type": "stream",
     "text": [
      "Process 858 finished at 23:29:44\n",
      "Process 864 finished at 23:29:44\n",
      "Process 870 finished at 23:29:45\n"
     ]
    }
   ],
   "source": [
    "#15.1\n",
    "import os\n",
    "import subprocess\n",
    "import multiprocessing as mp\n",
    "import random\n",
    "from datetime import datetime\n",
    "import time\n",
    "def ami(name, output_queue):\n",
    "    \n",
    "    process_delay = random.uniform(0,1)\n",
    "    time.sleep(process_delay)\n",
    "    processMessage = print(f\"Process {os.getpid()} finished at {datetime.now().strftime('%H:%M:%S')}\")\n",
    "    output_queue.put(processMessage)\n",
    "output_queue = mp.Queue()\n",
    "\n",
    "for i in range(3):\n",
    "    process = mp.Process(target=ami, args=(f\"Function is {i}\", output_queue))\n",
    "    process.start()\n",
    "    process.join()\n",
    "\n",
    "\n"
   ]
  }
 ],
 "metadata": {
  "kernelspec": {
   "display_name": "anaconda-panel-2023.05-py310",
   "language": "python",
   "name": "conda-env-anaconda-panel-2023.05-py310-py"
  },
  "language_info": {
   "codemirror_mode": {
    "name": "ipython",
    "version": 3
   },
   "file_extension": ".py",
   "mimetype": "text/x-python",
   "name": "python",
   "nbconvert_exporter": "python",
   "pygments_lexer": "ipython3",
   "version": "3.11.5"
  }
 },
 "nbformat": 4,
 "nbformat_minor": 5
}
