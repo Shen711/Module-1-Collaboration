{
 "cells": [
  {
   "cell_type": "code",
   "execution_count": 34,
   "id": "fb01e7d9-1e8c-4e55-97e3-aaf7edbf5afc",
   "metadata": {},
   "outputs": [
    {
     "name": "stdout",
     "output_type": "stream",
     "text": [
      "[2, 0, 1, 1, 2]\n",
      "[0, 2, 1, 1, 2]\n",
      "[0, 2, 1, 1, 2]\n",
      "[0, 1, 2, 1, 2]\n",
      "[0, 1, 2, 1, 2]\n",
      "[0, 1, 1, 2, 2]\n"
     ]
    }
   ],
   "source": [
    "#Sort an Array of 0's, 1's and 2's\n",
    "array = [2, 0, 1, 1, 2]\n",
    "a = 0\n",
    "b = 1\n",
    "\n",
    "for i in range(len(array)):\n",
    "    \n",
    "    if array[b] < array[a]:\n",
    "        print(array)\n",
    "        array[a], array[b] = array [b], array[a]\n",
    "        a += 1\n",
    "        b += 1\n",
    "        print(array)\n",
    "    \n",
    "    \n",
    "    \n",
    "    "
   ]
  },
  {
   "cell_type": "code",
   "execution_count": 62,
   "id": "22c1acc2-3580-4b98-bdf1-483e693fb454",
   "metadata": {},
   "outputs": [
    {
     "name": "stdout",
     "output_type": "stream",
     "text": [
      "105 is found at index 3\n"
     ]
    }
   ],
   "source": [
    "#Binary Search\n",
    "arr = [32, 48, 92, 105]\n",
    "k = 105\n",
    "\n",
    "for i in range(len(arr)):\n",
    "    if arr[i] == k:\n",
    "        print(str(k), \"is found at index\", i)\n",
    "        break\n",
    "        \n",
    "else:\n",
    "    print(str(k), \"is not present\")\n",
    "        "
   ]
  },
  {
   "cell_type": "code",
   "execution_count": null,
   "id": "9aee45e3-14fa-4526-873c-c04baf357669",
   "metadata": {},
   "outputs": [],
   "source": []
  },
  {
   "cell_type": "code",
   "execution_count": null,
   "id": "2d30c206-abf5-4ba0-b75c-f6600620515d",
   "metadata": {},
   "outputs": [],
   "source": []
  }
 ],
 "metadata": {
  "kernelspec": {
   "display_name": "anaconda-panel-2023.05-py310",
   "language": "python",
   "name": "conda-env-anaconda-panel-2023.05-py310-py"
  },
  "language_info": {
   "codemirror_mode": {
    "name": "ipython",
    "version": 3
   },
   "file_extension": ".py",
   "mimetype": "text/x-python",
   "name": "python",
   "nbconvert_exporter": "python",
   "pygments_lexer": "ipython3",
   "version": "3.11.5"
  }
 },
 "nbformat": 4,
 "nbformat_minor": 5
}
